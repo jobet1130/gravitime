{
 "cells": [
  {
   "cell_type": "code",
   "execution_count": null,
   "id": "fe4a35e2",
   "metadata": {},
   "outputs": [],
   "source": [
    "import pandas as pd\n",
    "import numpy as np\n",
    "from pathlib import Path\n",
    "import matplotlib.pyplot as plt\n",
    "import seaborn as sns\n",
    "\n",
    "pd.set_option('display.max_columns', None)\n",
    "sns.set_style(\"whitegrid\")"
   ]
  },
  {
   "cell_type": "code",
   "execution_count": null,
   "id": "ceb69a0b",
   "metadata": {},
   "outputs": [],
   "source": [
    "input_path = Path(\"../data/raw/gravity_speed_data.csv\")\n",
    "output_path = Path(\"../data/processed/cleaned_gravity_speed_data.csv\")\n",
    "output_path.parent.mkdir(parents=True, exist_ok=True)\n",
    "\n",
    "print(f\"Input file: {input_path}\")"
   ]
  },
  {
   "cell_type": "code",
   "execution_count": null,
   "id": "bc15ad96",
   "metadata": {},
   "outputs": [],
   "source": [
    "df = pd.read_csv(input_path)\n",
    "print(f\"Data loaded with {df.shape[0]} rows and {df.shape[1]} columns.\")\n",
    "df.shape"
   ]
  },
  {
   "cell_type": "code",
   "execution_count": null,
   "id": "17b33764",
   "metadata": {},
   "outputs": [],
   "source": [
    "df.replace([np.inf, -np.inf], np.nan, inplace=True)\n",
    "df.dropna(inplace=True)\n",
    "print(f\"Data cleaned: {df.shape[0]} rows and {df.shape[1]} columns after removing NaN values.\")"
   ]
  },
  {
   "cell_type": "code",
   "execution_count": null,
   "id": "07744224",
   "metadata": {},
   "outputs": [],
   "source": [
    "c = 299_792_458  # Speed of light in m/s\n",
    "\n",
    "conditions = (\n",
    "    (df[\"velocity_m_s\"] < c) &\n",
    "    (df[\"mass_kg\"] > 0) &\n",
    "    (df[\"radius_m\"] > 0) &\n",
    "    (df[\"gravitational_dilation\"] > 0) &\n",
    "    (df[\"velocity_dilation\"] > 0) &\n",
    "    (df[\"combined_dilation\"] > 0)\n",
    ")\n",
    "\n",
    "df = df[conditions]"
   ]
  },
  {
   "cell_type": "code",
   "execution_count": null,
   "id": "3dc31bc2",
   "metadata": {},
   "outputs": [],
   "source": [
    "cols = [\n",
    "    \"mass_kg\", \"radius_m\", \"velocity_m_s\",\n",
    "    \"gravitational_dilation\", \"velocity_dilation\",\n",
    "    \"combined_dilation\", \"time_difference_s\"\n",
    "]\n",
    "\n",
    "plt.figure(figsize=(15, 12))\n",
    "for i, col in enumerate(cols, 1):\n",
    "    plt.subplot(3, 3, i)\n",
    "    sns.histplot(df[col], bins=40, kde=True, color=\"steelblue\")\n",
    "    plt.title(f\"{col}\", fontsize=10)\n",
    "    plt.xlabel(\"\")\n",
    "    plt.ylabel(\"\")\n",
    "\n",
    "plt.tight_layout()\n",
    "plt.show()\n"
   ]
  },
  {
   "cell_type": "code",
   "execution_count": null,
   "id": "361c3b3d",
   "metadata": {},
   "outputs": [],
   "source": [
    "df.reset_index(drop=True, inplace=True)"
   ]
  },
  {
   "cell_type": "code",
   "execution_count": null,
   "id": "033ba86f",
   "metadata": {},
   "outputs": [],
   "source": [
    "df.to_csv(output_path, index=False)\n",
    "df.shape"
   ]
  }
 ],
 "metadata": {
  "language_info": {
   "name": "python"
  }
 },
 "nbformat": 4,
 "nbformat_minor": 5
}
