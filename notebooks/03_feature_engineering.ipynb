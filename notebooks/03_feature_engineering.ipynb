{
 "cells": [
  {
   "cell_type": "code",
   "execution_count": 13,
   "id": "16a33b4d",
   "metadata": {},
   "outputs": [],
   "source": [
    "import pandas as pd\n",
    "import numpy as np\n",
    "from pathlib import Path\n",
    "\n",
    "from sklearn.preprocessing import PolynomialFeatures, FunctionTransformer\n",
    "from sklearn.feature_selection import VarianceThreshold"
   ]
  },
  {
   "cell_type": "code",
   "execution_count": 14,
   "id": "74c0ac5c",
   "metadata": {},
   "outputs": [
    {
     "name": "stdout",
     "output_type": "stream",
     "text": [
      "Data loaded: 1000 rows and 9 columns.\n"
     ]
    },
    {
     "data": {
      "application/vnd.microsoft.datawrangler.viewer.v0+json": {
       "columns": [
        {
         "name": "index",
         "rawType": "int64",
         "type": "integer"
        },
        {
         "name": "mass_kg",
         "rawType": "float64",
         "type": "float"
        },
        {
         "name": "radius_m",
         "rawType": "float64",
         "type": "float"
        },
        {
         "name": "velocity_m_s",
         "rawType": "float64",
         "type": "float"
        },
        {
         "name": "gravitational_dilation",
         "rawType": "float64",
         "type": "float"
        },
        {
         "name": "velocity_dilation",
         "rawType": "float64",
         "type": "float"
        },
        {
         "name": "combined_dilation",
         "rawType": "float64",
         "type": "float"
        },
        {
         "name": "time_far_s",
         "rawType": "float64",
         "type": "float"
        },
        {
         "name": "time_near_s",
         "rawType": "float64",
         "type": "float"
        },
        {
         "name": "time_difference_s",
         "rawType": "float64",
         "type": "float"
        }
       ],
       "ref": "05be64c7-8415-4a21-bc48-2880cbbc51c6",
       "rows": [
        [
         "0",
         "6.620184483035168e+29",
         "5356206129.858237",
         "81283745.20463641",
         "0.999999908340804",
         "1.0388589339058656",
         "0.9625945118275482",
         "1.0",
         "0.9625945118275482",
         "0.0374054881724518"
        ],
        [
         "1",
         "8.862898123656707e+29",
         "8749384275.860498",
         "120781174.84892511",
         "0.9999999248789764",
         "1.0924493001089937",
         "0.915374218995066",
         "1.0",
         "0.915374218995066",
         "0.084625781004934"
        ],
        [
         "2",
         "2.99413772880038e+29",
         "2869731334.1822863",
         "62450753.9758242",
         "0.9999999226262288",
         "1.0223978388552752",
         "0.9780927586328584",
         "1.0",
         "0.9780927586328584",
         "0.0219072413671415"
        ],
        [
         "3",
         "4.302086112796228e+29",
         "6169629219.833394",
         "199736621.4034587",
         "0.9999999482889614",
         "1.340230506071696",
         "0.7461402674828133",
         "1.0",
         "0.7461402674828133",
         "0.2538597325171867"
        ],
        [
         "4",
         "3.116745545461229e+29",
         "2609682720.105509",
         "157900597.89739603",
         "0.9999999114319932",
         "1.176087202131855",
         "0.850277011448918",
         "1.0",
         "0.850277011448918",
         "0.149722988551082"
        ]
       ],
       "shape": {
        "columns": 9,
        "rows": 5
       }
      },
      "text/html": [
       "<div>\n",
       "<style scoped>\n",
       "    .dataframe tbody tr th:only-of-type {\n",
       "        vertical-align: middle;\n",
       "    }\n",
       "\n",
       "    .dataframe tbody tr th {\n",
       "        vertical-align: top;\n",
       "    }\n",
       "\n",
       "    .dataframe thead th {\n",
       "        text-align: right;\n",
       "    }\n",
       "</style>\n",
       "<table border=\"1\" class=\"dataframe\">\n",
       "  <thead>\n",
       "    <tr style=\"text-align: right;\">\n",
       "      <th></th>\n",
       "      <th>mass_kg</th>\n",
       "      <th>radius_m</th>\n",
       "      <th>velocity_m_s</th>\n",
       "      <th>gravitational_dilation</th>\n",
       "      <th>velocity_dilation</th>\n",
       "      <th>combined_dilation</th>\n",
       "      <th>time_far_s</th>\n",
       "      <th>time_near_s</th>\n",
       "      <th>time_difference_s</th>\n",
       "    </tr>\n",
       "  </thead>\n",
       "  <tbody>\n",
       "    <tr>\n",
       "      <th>0</th>\n",
       "      <td>6.620184e+29</td>\n",
       "      <td>5.356206e+09</td>\n",
       "      <td>8.128375e+07</td>\n",
       "      <td>1.0</td>\n",
       "      <td>1.038859</td>\n",
       "      <td>0.962595</td>\n",
       "      <td>1.0</td>\n",
       "      <td>0.962595</td>\n",
       "      <td>0.037405</td>\n",
       "    </tr>\n",
       "    <tr>\n",
       "      <th>1</th>\n",
       "      <td>8.862898e+29</td>\n",
       "      <td>8.749384e+09</td>\n",
       "      <td>1.207812e+08</td>\n",
       "      <td>1.0</td>\n",
       "      <td>1.092449</td>\n",
       "      <td>0.915374</td>\n",
       "      <td>1.0</td>\n",
       "      <td>0.915374</td>\n",
       "      <td>0.084626</td>\n",
       "    </tr>\n",
       "    <tr>\n",
       "      <th>2</th>\n",
       "      <td>2.994138e+29</td>\n",
       "      <td>2.869731e+09</td>\n",
       "      <td>6.245075e+07</td>\n",
       "      <td>1.0</td>\n",
       "      <td>1.022398</td>\n",
       "      <td>0.978093</td>\n",
       "      <td>1.0</td>\n",
       "      <td>0.978093</td>\n",
       "      <td>0.021907</td>\n",
       "    </tr>\n",
       "    <tr>\n",
       "      <th>3</th>\n",
       "      <td>4.302086e+29</td>\n",
       "      <td>6.169629e+09</td>\n",
       "      <td>1.997366e+08</td>\n",
       "      <td>1.0</td>\n",
       "      <td>1.340231</td>\n",
       "      <td>0.746140</td>\n",
       "      <td>1.0</td>\n",
       "      <td>0.746140</td>\n",
       "      <td>0.253860</td>\n",
       "    </tr>\n",
       "    <tr>\n",
       "      <th>4</th>\n",
       "      <td>3.116746e+29</td>\n",
       "      <td>2.609683e+09</td>\n",
       "      <td>1.579006e+08</td>\n",
       "      <td>1.0</td>\n",
       "      <td>1.176087</td>\n",
       "      <td>0.850277</td>\n",
       "      <td>1.0</td>\n",
       "      <td>0.850277</td>\n",
       "      <td>0.149723</td>\n",
       "    </tr>\n",
       "  </tbody>\n",
       "</table>\n",
       "</div>"
      ],
      "text/plain": [
       "        mass_kg      radius_m  velocity_m_s  gravitational_dilation  \\\n",
       "0  6.620184e+29  5.356206e+09  8.128375e+07                     1.0   \n",
       "1  8.862898e+29  8.749384e+09  1.207812e+08                     1.0   \n",
       "2  2.994138e+29  2.869731e+09  6.245075e+07                     1.0   \n",
       "3  4.302086e+29  6.169629e+09  1.997366e+08                     1.0   \n",
       "4  3.116746e+29  2.609683e+09  1.579006e+08                     1.0   \n",
       "\n",
       "   velocity_dilation  combined_dilation  time_far_s  time_near_s  \\\n",
       "0           1.038859           0.962595         1.0     0.962595   \n",
       "1           1.092449           0.915374         1.0     0.915374   \n",
       "2           1.022398           0.978093         1.0     0.978093   \n",
       "3           1.340231           0.746140         1.0     0.746140   \n",
       "4           1.176087           0.850277         1.0     0.850277   \n",
       "\n",
       "   time_difference_s  \n",
       "0           0.037405  \n",
       "1           0.084626  \n",
       "2           0.021907  \n",
       "3           0.253860  \n",
       "4           0.149723  "
      ]
     },
     "execution_count": 14,
     "metadata": {},
     "output_type": "execute_result"
    }
   ],
   "source": [
    "input_path = Path(\"../data/processed/cleaned_gravity_speed_data.csv\")\n",
    "df = pd.read_csv(input_path)\n",
    "\n",
    "print(f\"Data loaded: {df.shape[0]} rows and {df.shape[1]} columns.\")\n",
    "df.head()"
   ]
  },
  {
   "cell_type": "code",
   "execution_count": 15,
   "id": "cba87721",
   "metadata": {},
   "outputs": [
    {
     "name": "stdout",
     "output_type": "stream",
     "text": [
      "🔢 Applied log1p transform to 9 positive numeric columns.\n"
     ]
    }
   ],
   "source": [
    "log_cols = df.select_dtypes(include=[\"float64\", \"int64\"]).columns[\n",
    "    (df > 0).all()\n",
    "].tolist()\n",
    "\n",
    "log_transformer = FunctionTransformer(np.log1p, validate=True)\n",
    "\n",
    "log_df = pd.DataFrame(\n",
    "    log_transformer.fit_transform(df[log_cols]),\n",
    "    columns=[f\"log1p_{col}\" for col in log_cols]\n",
    ")\n",
    "\n",
    "df = pd.concat([df.reset_index(drop=True), log_df.reset_index(drop=True)], axis=1)\n",
    "\n",
    "print(f\"🔢 Applied log1p transform to {len(log_cols)} positive numeric columns.\")"
   ]
  },
  {
   "cell_type": "code",
   "execution_count": 16,
   "id": "bd4e3acd",
   "metadata": {},
   "outputs": [
    {
     "name": "stdout",
     "output_type": "stream",
     "text": [
      "🔧 Added 171 polynomial features (degree=2, without original features).\n"
     ]
    }
   ],
   "source": [
    "poly_features = df.select_dtypes(include=[\"float64\", \"int64\"]).columns.tolist()\n",
    "poly = PolynomialFeatures(degree=2, include_bias=False)\n",
    "poly_array = poly.fit_transform(df[poly_features])\n",
    "poly_feature_names = poly.get_feature_names_out(poly_features)\n",
    "poly_df = pd.DataFrame(poly_array, columns=poly_feature_names)\n",
    "poly_df = poly_df.drop(columns=poly_features)\n",
    "df = pd.concat([df.reset_index(drop=True), poly_df.reset_index(drop=True)], axis=1)\n",
    "print(f\"🔧 Added {poly_df.shape[1]} polynomial features (degree=2, without original features).\")"
   ]
  },
  {
   "cell_type": "code",
   "execution_count": 17,
   "id": "3f53dd22",
   "metadata": {},
   "outputs": [
    {
     "name": "stdout",
     "output_type": "stream",
     "text": [
      "Dropped 158 highly correlated features.\n"
     ]
    }
   ],
   "source": [
    "corr_matrix = df.corr(numeric_only=True).abs()\n",
    "upper = corr_matrix.where(np.triu(np.ones(corr_matrix.shape), k=1).astype(bool))\n",
    "to_drop = [col for col in upper.columns if any(upper[col] > 0.97)]\n",
    "\n",
    "df.drop(columns=to_drop, inplace=True)\n",
    "print(f\"Dropped {len(to_drop)} highly correlated features.\")"
   ]
  },
  {
   "cell_type": "code",
   "execution_count": 18,
   "id": "84dcec38",
   "metadata": {},
   "outputs": [
    {
     "name": "stdout",
     "output_type": "stream",
     "text": [
      "Remaining features after variance threshold: 26\n"
     ]
    }
   ],
   "source": [
    "selector = VarianceThreshold(threshold=0.0)\n",
    "reduced_data = selector.fit_transform(df.select_dtypes(include=[np.number]))\n",
    "\n",
    "selected_cols = df.select_dtypes(include=[np.number]).columns[selector.get_support()]\n",
    "df = df[selected_cols]\n",
    "\n",
    "print(f\"Remaining features after variance threshold: {df.shape[1]}\")"
   ]
  },
  {
   "cell_type": "code",
   "execution_count": 19,
   "id": "e1a1ee1c",
   "metadata": {},
   "outputs": [
    {
     "name": "stdout",
     "output_type": "stream",
     "text": [
      "Feature-engineered dataset saved to: ..\\data\\processed\\gravity_data_engineered.csv\n"
     ]
    }
   ],
   "source": [
    "output_path = Path(\"../data/processed/gravity_data_engineered.csv\")\n",
    "output_path.parent.mkdir(parents=True, exist_ok=True)\n",
    "\n",
    "df.to_csv(output_path, index=False)\n",
    "print(f\"Feature-engineered dataset saved to: {output_path}\")\n"
   ]
  }
 ],
 "metadata": {
  "kernelspec": {
   "display_name": "base",
   "language": "python",
   "name": "python3"
  },
  "language_info": {
   "codemirror_mode": {
    "name": "ipython",
    "version": 3
   },
   "file_extension": ".py",
   "mimetype": "text/x-python",
   "name": "python",
   "nbconvert_exporter": "python",
   "pygments_lexer": "ipython3",
   "version": "3.12.7"
  }
 },
 "nbformat": 4,
 "nbformat_minor": 5
}
